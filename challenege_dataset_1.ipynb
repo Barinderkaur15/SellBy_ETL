{
  "nbformat": 4,
  "nbformat_minor": 0,
  "metadata": {
    "colab": {
      "name": "challenege_dataset_1.ipynb",
      "provenance": [],
      "collapsed_sections": [],
      "authorship_tag": "ABX9TyMt4TOMIu8wLeSU9woU7J6n",
      "include_colab_link": true
    },
    "kernelspec": {
      "name": "python3",
      "display_name": "Python 3"
    }
  },
  "cells": [
    {
      "cell_type": "markdown",
      "metadata": {
        "id": "view-in-github",
        "colab_type": "text"
      },
      "source": [
        "<a href=\"https://colab.research.google.com/github/Barinderkaur15/SellBy_ETL/blob/master/challenege_dataset_1.ipynb\" target=\"_parent\"><img src=\"https://colab.research.google.com/assets/colab-badge.svg\" alt=\"Open In Colab\"/></a>"
      ]
    },
    {
      "cell_type": "code",
      "metadata": {
        "id": "iOKMQ6u3DX4Y",
        "colab_type": "code",
        "outputId": "2a48d0b2-c2f3-421e-808e-671f362e1580",
        "colab": {
          "base_uri": "https://localhost:8080/",
          "height": 204
        }
      },
      "source": [
        "# Install Java, Spark, and Findspark\n",
        "!apt-get install openjdk-8-jdk-headless -qq > /dev/null\n",
        "!wget -q http://www-us.apache.org/dist/spark/spark-2.4.4/spark-2.4.4-bin-hadoop2.7.tgz\n",
        "!tar xf spark-2.4.4-bin-hadoop2.7.tgz\n",
        "!pip install -q findspark\n",
        "# Set Environment Variables\n",
        "import os\n",
        "os.environ[\"JAVA_HOME\"] = \"/usr/lib/jvm/java-8-openjdk-amd64\"\n",
        "os.environ[\"SPARK_HOME\"] = \"/content/spark-2.4.4-bin-hadoop2.7\"\n",
        "#for Postgrate driver\n",
        "!wget https://jdbc.postgresql.org/download/postgresql-42.2.9.jar\n",
        "# Start a SparkSession\n",
        "import findspark\n",
        "findspark.init()\n",
        "# Start Spark session\n",
        "from pyspark.sql import SparkSession\n",
        "spark = SparkSession.builder.appName(\"challenege\").config(\"spark.driver.extraClassPath\",\"/content/postgresql-42.2.9.jar\").getOrCreate()"
      ],
      "execution_count": 0,
      "outputs": [
        {
          "output_type": "stream",
          "text": [
            "--2020-02-04 03:35:23--  https://jdbc.postgresql.org/download/postgresql-42.2.9.jar\n",
            "Resolving jdbc.postgresql.org (jdbc.postgresql.org)... 72.32.157.228, 2001:4800:3e1:1::228\n",
            "Connecting to jdbc.postgresql.org (jdbc.postgresql.org)|72.32.157.228|:443... connected.\n",
            "HTTP request sent, awaiting response... 200 OK\n",
            "Length: 914037 (893K) [application/java-archive]\n",
            "Saving to: ‘postgresql-42.2.9.jar’\n",
            "\n",
            "postgresql-42.2.9.j 100%[===================>] 892.61K  4.70MB/s    in 0.2s    \n",
            "\n",
            "2020-02-04 03:35:24 (4.70 MB/s) - ‘postgresql-42.2.9.jar’ saved [914037/914037]\n",
            "\n"
          ],
          "name": "stdout"
        }
      ]
    },
    {
      "cell_type": "markdown",
      "metadata": {
        "id": "K349dZIND0uL",
        "colab_type": "text"
      },
      "source": [
        "# **Extract**"
      ]
    },
    {
      "cell_type": "code",
      "metadata": {
        "id": "bU3V2-n3U_xt",
        "colab_type": "code",
        "colab": {}
      },
      "source": [
        "# Read in data from S3 Buckets\n",
        "from pyspark import SparkFiles\n",
        "url = \"https://barinder-bucket.s3.amazonaws.com/amazon_reviews_us_Mobile_Electronics_v1_00.tsv.gz\"\n",
        "spark.sparkContext.addFile(url)\n",
        "df = spark.read.csv(SparkFiles.get(\"amazon_reviews_us_Mobile_Electronics_v1_00.tsv.gz\"), sep=\"\\t\", header=True)"
      ],
      "execution_count": 0,
      "outputs": []
    },
    {
      "cell_type": "code",
      "metadata": {
        "id": "S9MUIR3AtOrf",
        "colab_type": "code",
        "outputId": "f512e01b-30ee-4c78-b561-45fc9807eda4",
        "colab": {
          "base_uri": "https://localhost:8080/",
          "height": 479
        }
      },
      "source": [
        "#To check our data frame\n",
        "df.show()"
      ],
      "execution_count": 0,
      "outputs": [
        {
          "output_type": "stream",
          "text": [
            "+-----------+-----------+--------------+----------+--------------+--------------------+------------------+-----------+-------------+-----------+----+-----------------+--------------------+--------------------+-----------+\n",
            "|marketplace|customer_id|     review_id|product_id|product_parent|       product_title|  product_category|star_rating|helpful_votes|total_votes|vine|verified_purchase|     review_headline|         review_body|review_date|\n",
            "+-----------+-----------+--------------+----------+--------------+--------------------+------------------+-----------+-------------+-----------+----+-----------------+--------------------+--------------------+-----------+\n",
            "|         US|   20422322| R8MEA6IGAHO0B|B00MC4CED8|     217304173|BlackVue DR600GW-PMP|Mobile_Electronics|          5|            0|          0|   N|                Y|         Very Happy!|As advertised. Ev...| 2015-08-31|\n",
            "|         US|   40835037|R31LOQ8JGLPRLK|B00OQMFG1Q|     137313254|GENSSI GSM / GPS ...|Mobile_Electronics|          5|            0|          1|   N|                Y|           five star|          it's great| 2015-08-31|\n",
            "|         US|   51469641|R2Y0MM9YE6OP3P|B00QERR5CY|      82850235|iXCC Multi pack L...|Mobile_Electronics|          5|            0|          0|   N|                Y|        great cables|These work great ...| 2015-08-31|\n",
            "|         US|    4332923| RRB9C05HDOD4O|B00QUFTPV4|     221169481|abcGoodefg® FBI C...|Mobile_Electronics|          4|            0|          0|   N|                Y|Work very well bu...|Work very well bu...| 2015-08-31|\n",
            "|         US|   44855305|R26I2RI1GFV8QG|B0067XVNTG|     563475445|Generic Car Dashb...|Mobile_Electronics|          2|            0|          0|   N|                Y|Cameras has batte...|Be careful with t...| 2015-08-31|\n",
            "|         US|    7846966| RY8DDL22YG4R5|B00KA6CCVY|     713636156|Aweek® Air Acoust...|Mobile_Electronics|          3|            0|          1|   N|                Y|It appears to be ...|It appears to be ...| 2015-08-31|\n",
            "|         US|   21299354|R2AT2426ZHFUHH|B00MJCDPM2|     754171872|Sentey LS-4460 B-...|Mobile_Electronics|          3|            0|          1|   N|                Y|Didn't love the f...|First one arrived...| 2015-08-31|\n",
            "|         US|   28902968|R3RRXU2R23NMQ9|B00ET5AWBY|     508373185|iPad Car Headrest...|Mobile_Electronics|          5|            0|          0|   N|                Y|          Five Stars|Worked great for ...| 2015-08-31|\n",
            "|         US|    2074438|R250PR8VJUZ62F|B00Z9K379C|     759387370|ANWING Waterproof...|Mobile_Electronics|          4|            0|          2|   N|                Y|          Four Stars|this is a very go...| 2015-08-31|\n",
            "|         US|   48701722| RBEMQ29WJBHYG|B00YO3UYXW|     913911909|Jensen MCR-100 Ca...|Mobile_Electronics|          5|          164|        168|   N|                Y|  I LOVE my recorder|I LOVE my recorde...| 2015-08-31|\n",
            "|         US|    2990247|R19VVIUT4BZCMT|B011W26BU2|     938399424|Bluetooth Speaker...|Mobile_Electronics|          5|            2|          2|   N|                Y|          Five Stars|Great sound great...| 2015-08-31|\n",
            "|         US|   52946117|R1DT8JJUQHUKUL|B00H8PI78C|     661515294|15Pcs DC 5V 85dB ...|Mobile_Electronics|          3|            0|          1|   N|                Y|More of a beeper ...|If what you want ...| 2015-08-31|\n",
            "|         US|   49359994| RLIL6S9OGM3YA|B00M49C6MK|      91176851|      Sentey Ls 4162|Mobile_Electronics|          5|            0|          0|   N|                Y|          Five Stars|             Love it| 2015-08-31|\n",
            "|         US|    4158732|R34EZZ68VYPHO0|B011Q291PK|     891142775|IcePACK 8 Can Ins...|Mobile_Electronics|          1|            1|          1|   N|                Y|            One Star|               Sucks| 2015-08-31|\n",
            "|         US|   18944032|R3TZNSOXS13SIG|B00W6OLUGQ|     577462547|DTK® AMI MDI MMI ...|Mobile_Electronics|          2|            1|          3|   N|                Y|           Two Stars|u need to plug in...| 2015-08-31|\n",
            "|         US|     279606|R12UBZT87UX3AP|B008MY1F8W|     680240984|INPA K+CAN K+DCAN...|Mobile_Electronics|          5|            2|          2|   N|                Y|          Five Stars|Worked with MHD F...| 2015-08-31|\n",
            "|         US|   10947966| R5KCRE927NYMU|B00KW3XNUE|     219920841|Magicfly Wireless...|Mobile_Electronics|          2|            0|          0|   N|                N|Battery Cover Poo...|Just arrived,  re...| 2015-08-31|\n",
            "|         US|   18387442| RT12RQFU0V2AX|B009NGR0AK|     254898339|Humminbird XNT 9 ...|Mobile_Electronics|          5|            1|          1|   N|                Y|        Works great.|I bought this uni...| 2015-08-31|\n",
            "|         US|   48950322|R2K0YQPV5W2SJ1|B011W26BU2|     938399424|Bluetooth Speaker...|Mobile_Electronics|          4|            2|          2|   N|                Y|A Lot of Sound In...|I am giving the s...| 2015-08-31|\n",
            "|         US|   48148197|R104MY31OKNGXH|B00PAP68WO|     366592530|Foxnovo 3.7V 380m...|Mobile_Electronics|          5|            0|          0|   N|                Y|          Five Stars|Met my applicatio...| 2015-08-31|\n",
            "+-----------+-----------+--------------+----------+--------------+--------------------+------------------+-----------+-------------+-----------+----+-----------------+--------------------+--------------------+-----------+\n",
            "only showing top 20 rows\n",
            "\n"
          ],
          "name": "stdout"
        }
      ]
    },
    {
      "cell_type": "code",
      "metadata": {
        "id": "_kpsOaHZvQjl",
        "colab_type": "code",
        "outputId": "5120b1a9-e96c-4fc7-b658-a7d72e8d42dd",
        "colab": {
          "base_uri": "https://localhost:8080/",
          "height": 34
        }
      },
      "source": [
        "#to count number of rows\n",
        "df.count()"
      ],
      "execution_count": 0,
      "outputs": [
        {
          "output_type": "execute_result",
          "data": {
            "text/plain": [
              "104975"
            ]
          },
          "metadata": {
            "tags": []
          },
          "execution_count": 4
        }
      ]
    },
    {
      "cell_type": "markdown",
      "metadata": {
        "id": "ChQVvSOtKMLd",
        "colab_type": "text"
      },
      "source": [
        "# **Transform**"
      ]
    },
    {
      "cell_type": "code",
      "metadata": {
        "id": "zFgU3u2Qxc9O",
        "colab_type": "code",
        "outputId": "fa21b381-63fe-4ce2-c6e4-6af3b0a92553",
        "colab": {
          "base_uri": "https://localhost:8080/",
          "height": 34
        }
      },
      "source": [
        "#droping NAN vlaues \n",
        "df_clean1=df.dropna()\n",
        "df_clean1.count()"
      ],
      "execution_count": 0,
      "outputs": [
        {
          "output_type": "execute_result",
          "data": {
            "text/plain": [
              "104972"
            ]
          },
          "metadata": {
            "tags": []
          },
          "execution_count": 5
        }
      ]
    },
    {
      "cell_type": "code",
      "metadata": {
        "id": "C7_pn1n-OWPk",
        "colab_type": "code",
        "outputId": "2c4318e1-88db-4363-a051-dcc704f577f5",
        "colab": {
          "base_uri": "https://localhost:8080/",
          "height": 34
        }
      },
      "source": [
        "#Deleting dupicate Rows \n",
        "df_clean2=df_clean1.distinct()\n",
        "df_clean2.count()"
      ],
      "execution_count": 0,
      "outputs": [
        {
          "output_type": "execute_result",
          "data": {
            "text/plain": [
              "104972"
            ]
          },
          "metadata": {
            "tags": []
          },
          "execution_count": 6
        }
      ]
    },
    {
      "cell_type": "code",
      "metadata": {
        "id": "O6nkL0mjOhIV",
        "colab_type": "code",
        "outputId": "59ca52a8-5fce-4a2d-99ce-40a5b0790b16",
        "colab": {
          "base_uri": "https://localhost:8080/",
          "height": 272
        }
      },
      "source": [
        "#checking data type before transformation \n",
        "df_clean2.dtypes\n"
      ],
      "execution_count": 0,
      "outputs": [
        {
          "output_type": "execute_result",
          "data": {
            "text/plain": [
              "[('marketplace', 'string'),\n",
              " ('customer_id', 'string'),\n",
              " ('review_id', 'string'),\n",
              " ('product_id', 'string'),\n",
              " ('product_parent', 'string'),\n",
              " ('product_title', 'string'),\n",
              " ('product_category', 'string'),\n",
              " ('star_rating', 'string'),\n",
              " ('helpful_votes', 'string'),\n",
              " ('total_votes', 'string'),\n",
              " ('vine', 'string'),\n",
              " ('verified_purchase', 'string'),\n",
              " ('review_headline', 'string'),\n",
              " ('review_body', 'string'),\n",
              " ('review_date', 'string')]"
            ]
          },
          "metadata": {
            "tags": []
          },
          "execution_count": 7
        }
      ]
    },
    {
      "cell_type": "code",
      "metadata": {
        "id": "Uf4dNfJuTxo0",
        "colab_type": "code",
        "outputId": "7c1fadd6-44de-4daa-8a05-a2b1ed2839a2",
        "colab": {
          "base_uri": "https://localhost:8080/",
          "height": 479
        }
      },
      "source": [
        "#Changing the cloumn format\n",
        "#importing the function \n",
        "from pyspark.sql.types import IntegerType,DateType\n",
        "from pyspark.sql.functions import col\n",
        "\n",
        "clean_df3 = df_clean2.withColumn(\"review_date\",df_clean2[\"review_date\"].cast(DateType()))\n",
        "clean_df4 = clean_df3.withColumn(\"customer_id\",clean_df3[\"customer_id\"].cast(IntegerType()))\n",
        "clean_df5 = clean_df4.withColumn(\"product_parent\",clean_df4[\"product_parent\"].cast(IntegerType()))\n",
        "clean_df6 = clean_df5.withColumn(\"star_rating\",clean_df5[\"star_rating\"].cast(IntegerType()))\n",
        "clean_df7= clean_df6.withColumn(\"helpful_votes\",clean_df6[\"helpful_votes\"].cast(IntegerType()))\n",
        "clean_df_final=clean_df7.withColumn(\"total_votes\",clean_df7[\"total_votes\"].cast(IntegerType()))\n",
        "clean_df_final.show()\n",
        "\n",
        "\n",
        "\n",
        "\n",
        "\n"
      ],
      "execution_count": 0,
      "outputs": [
        {
          "output_type": "stream",
          "text": [
            "+-----------+-----------+--------------+----------+--------------+--------------------+------------------+-----------+-------------+-----------+----+-----------------+--------------------+--------------------+-----------+\n",
            "|marketplace|customer_id|     review_id|product_id|product_parent|       product_title|  product_category|star_rating|helpful_votes|total_votes|vine|verified_purchase|     review_headline|         review_body|review_date|\n",
            "+-----------+-----------+--------------+----------+--------------+--------------------+------------------+-----------+-------------+-----------+----+-----------------+--------------------+--------------------+-----------+\n",
            "|         US|   47240274|R2JXNXR69I47V2|B004A83PE6|     683281404|6-Pack Mirror Scr...|Mobile_Electronics|          1|            0|          0|   N|                Y|which is a useles...|Didn't notice tha...| 2015-08-19|\n",
            "|         US|   16990630|R11K27GHAI6195|B00BUFBQWU|     904426906|iPod Touch 5 case...|Mobile_Electronics|          1|            0|          0|   N|                Y|            One Star|          Cheap case| 2015-08-14|\n",
            "|         US|    2393847|R2ALAWL75ID2JM|B00SFJBPRK|     385604844|AGPtek Telecontro...|Mobile_Electronics|          5|            0|          0|   N|                Y|             2 Stars|If it only would ...| 2015-08-13|\n",
            "|         US|   11699577| R8OARX4HEFGK8|B00DDM43GO|     188006925|Daryl Dixon Case ...|Mobile_Electronics|          5|            0|          0|   N|                Y|Good quality product|My daughter LOVED...| 2015-08-13|\n",
            "|         US|    1299318|R28WWNCYL015CU|B00J46XO9U|     744008282|iXCC Lightning Ca...|Mobile_Electronics|          5|            0|          0|   N|                Y|          Five Stars|Great chargers. W...| 2015-08-10|\n",
            "|         US|   29276418| RDC2R9YO70ILG|B00TPBG4QE|     880923402|iPod 5 case,iPod ...|Mobile_Electronics|          5|            0|          0|   N|                Y|Protective, not t...|My daughter likes...| 2015-08-07|\n",
            "|         US|   24030779|R1Y60OTOD5GWG0|B00MDY3562|      64260162|TOYOTA CAMRY SUN ...|Mobile_Electronics|          3|            0|          0|   N|                Y|         Three Stars|      Sort of works.| 2015-07-27|\n",
            "|         US|   23181159|R28XVREB47GB9M|B00XJCST40|     613294047|KLM 12*3528SMD 20...|Mobile_Electronics|          3|            0|          0|   N|                N|I want to know 'w...|I want to know wi...| 2015-07-25|\n",
            "|         US|   49878060|R2HLEUFNMPQN56|B00LAG4HN4|     536367292|iXCC Element II L...|Mobile_Electronics|          4|            0|          0|   N|                Y|Doesn't fit iPhon...|Product is workin...| 2015-07-25|\n",
            "|         US|   35635435|R2TBD74G4EZZN5|B007Q939ME|     575169462|uxcell 6 x Clip O...|Mobile_Electronics|          5|            2|          2|   N|                Y|Great \"Clip-on\" F...|Bought these to f...| 2015-07-18|\n",
            "|         US|   41923469|R1MOY16ER8CCUA|B00SDFHKGG|     262009514|Milennia PRV525 A...|Mobile_Electronics|          5|            0|          0|   N|                Y|          Five Stars|Good reception, s...| 2015-07-18|\n",
            "|         US|    1804960|R1TAG1ZNRY8WZ2|B00J46XO9U|     744008282|iXCC Lightning Ca...|Mobile_Electronics|          5|            2|          2|   N|                Y|Great charger and...|Of all the charge...| 2015-07-16|\n",
            "|         US|   10267790|R2MQXKIF6W15AW|B007UXNHGY|     666314203|Insten Universal ...|Mobile_Electronics|          1|            0|          0|   N|                Y|            One Star|Disappointed in c...| 2015-07-04|\n",
            "|         US|   12554798|R1CL3BYFZ9IP9Q|B00J46XO9U|     744008282|iXCC Lightning Ca...|Mobile_Electronics|          4|            0|          0|   N|                Y|          Four Stars|Satisfied. Charge...| 2015-07-01|\n",
            "|         US|   17855502| ROXEOAFGCCIXC|B00BXCN82Q|     401929686|GMYLE(TM) Permium...|Mobile_Electronics|          5|            0|          0|   N|                Y|          Five Stars|        Perfect fit.| 2015-06-30|\n",
            "|         US|   11603900| RQ0VF66AFFZOJ|B004AKK9EI|     777855219|Cover-Up Sony PRS...|Mobile_Electronics|          5|            0|          0|   N|                Y|          Five Stars|Loved it best rep...| 2015-06-27|\n",
            "|         US|     761170|R2F5XRVO4P47GT|B00J46XO9U|     744008282|iXCC Lightning Ca...|Mobile_Electronics|          5|            0|          0|   N|                Y|          Five Stars|Well nothing bad ...| 2015-06-26|\n",
            "|         US|    6394761|R2GE051KWDAFGU|B00RDCMYAW|     902385260|Bluetooth Shower ...|Mobile_Electronics|          5|            0|          0|   N|                Y|          Five Stars|So easy to progra...| 2015-06-22|\n",
            "|         US|   12047722|R28P2TYLKF1898|B00CRN5TZO|     660157195|Straight Power Co...|Mobile_Electronics|          5|            0|          0|   N|                Y|This power cord d...|This power cord d...| 2015-06-17|\n",
            "|         US|   48904353|R1L0YED5YEMRCP|B00X7S3270|     549271627|TUFF Portable Out...|Mobile_Electronics|          1|            0|          0|   N|                Y|         Poorly made|           Don't buy| 2015-06-15|\n",
            "+-----------+-----------+--------------+----------+--------------+--------------------+------------------+-----------+-------------+-----------+----+-----------------+--------------------+--------------------+-----------+\n",
            "only showing top 20 rows\n",
            "\n"
          ],
          "name": "stdout"
        }
      ]
    },
    {
      "cell_type": "code",
      "metadata": {
        "id": "16ah9uIwZUrZ",
        "colab_type": "code",
        "outputId": "c056f2ea-181b-4e31-cdd3-4f99ca14dedc",
        "colab": {
          "base_uri": "https://localhost:8080/",
          "height": 102
        }
      },
      "source": [
        "#creating a dataframe for Postgres\n",
        "#Table 1 : Review id \n",
        "review_id_df=clean_df_final.select([\"review_id\",\"customer_id\",\"product_id\",\"product_parent\",\"review_date\"])\n",
        "#review_id check 1 \n",
        "review_id_df.dtypes"
      ],
      "execution_count": 0,
      "outputs": [
        {
          "output_type": "execute_result",
          "data": {
            "text/plain": [
              "[('review_id', 'string'),\n",
              " ('customer_id', 'int'),\n",
              " ('product_id', 'string'),\n",
              " ('product_parent', 'int'),\n",
              " ('review_date', 'date')]"
            ]
          },
          "metadata": {
            "tags": []
          },
          "execution_count": 9
        }
      ]
    },
    {
      "cell_type": "code",
      "metadata": {
        "id": "0x-UUNvsbES6",
        "colab_type": "code",
        "outputId": "eb59cb91-a21f-4c88-deb6-ff0fc4c0b8f2",
        "colab": {
          "base_uri": "https://localhost:8080/",
          "height": 459
        }
      },
      "source": [
        "#checking Table 1\n",
        "review_id_df.show()"
      ],
      "execution_count": 0,
      "outputs": [
        {
          "output_type": "stream",
          "text": [
            "+--------------+-----------+----------+--------------+-----------+\n",
            "|     review_id|customer_id|product_id|product_parent|review_date|\n",
            "+--------------+-----------+----------+--------------+-----------+\n",
            "|R2JXNXR69I47V2|   47240274|B004A83PE6|     683281404| 2015-08-19|\n",
            "|R11K27GHAI6195|   16990630|B00BUFBQWU|     904426906| 2015-08-14|\n",
            "|R2ALAWL75ID2JM|    2393847|B00SFJBPRK|     385604844| 2015-08-13|\n",
            "| R8OARX4HEFGK8|   11699577|B00DDM43GO|     188006925| 2015-08-13|\n",
            "|R28WWNCYL015CU|    1299318|B00J46XO9U|     744008282| 2015-08-10|\n",
            "| RDC2R9YO70ILG|   29276418|B00TPBG4QE|     880923402| 2015-08-07|\n",
            "|R1Y60OTOD5GWG0|   24030779|B00MDY3562|      64260162| 2015-07-27|\n",
            "|R28XVREB47GB9M|   23181159|B00XJCST40|     613294047| 2015-07-25|\n",
            "|R2HLEUFNMPQN56|   49878060|B00LAG4HN4|     536367292| 2015-07-25|\n",
            "|R2TBD74G4EZZN5|   35635435|B007Q939ME|     575169462| 2015-07-18|\n",
            "|R1MOY16ER8CCUA|   41923469|B00SDFHKGG|     262009514| 2015-07-18|\n",
            "|R1TAG1ZNRY8WZ2|    1804960|B00J46XO9U|     744008282| 2015-07-16|\n",
            "|R2MQXKIF6W15AW|   10267790|B007UXNHGY|     666314203| 2015-07-04|\n",
            "|R1CL3BYFZ9IP9Q|   12554798|B00J46XO9U|     744008282| 2015-07-01|\n",
            "| ROXEOAFGCCIXC|   17855502|B00BXCN82Q|     401929686| 2015-06-30|\n",
            "| RQ0VF66AFFZOJ|   11603900|B004AKK9EI|     777855219| 2015-06-27|\n",
            "|R2F5XRVO4P47GT|     761170|B00J46XO9U|     744008282| 2015-06-26|\n",
            "|R2GE051KWDAFGU|    6394761|B00RDCMYAW|     902385260| 2015-06-22|\n",
            "|R28P2TYLKF1898|   12047722|B00CRN5TZO|     660157195| 2015-06-17|\n",
            "|R1L0YED5YEMRCP|   48904353|B00X7S3270|     549271627| 2015-06-15|\n",
            "+--------------+-----------+----------+--------------+-----------+\n",
            "only showing top 20 rows\n",
            "\n"
          ],
          "name": "stdout"
        }
      ]
    },
    {
      "cell_type": "code",
      "metadata": {
        "id": "rqaZvqefjg6S",
        "colab_type": "code",
        "colab": {}
      },
      "source": [
        "#creating product table using distinct values only \n",
        "from pyspark.sql.functions import col, countDistinct\n",
        "distinct_value=clean_df_final.distinct()\n",
        "\n",
        "product_df=distinct_value.select([\"product_id\",\"product_title\"])\n",
        "#droping duplicate value \n",
        "uniquevalue= product_df.dropDuplicates()\n",
        "\n",
        "#product_df.select(countDistinct(\"product_id\")).show()"
      ],
      "execution_count": 0,
      "outputs": []
    },
    {
      "cell_type": "code",
      "metadata": {
        "id": "o83oxidiwvVp",
        "colab_type": "code",
        "outputId": "3e0d2f51-c751-4ab3-894b-bccfa1aab06b",
        "colab": {
          "base_uri": "https://localhost:8080/",
          "height": 34
        }
      },
      "source": [
        "#checking distinct \n",
        "uniquevalue.count()\n",
        "\n",
        "\n"
      ],
      "execution_count": 0,
      "outputs": [
        {
          "output_type": "execute_result",
          "data": {
            "text/plain": [
              "25799"
            ]
          },
          "metadata": {
            "tags": []
          },
          "execution_count": 12
        }
      ]
    },
    {
      "cell_type": "code",
      "metadata": {
        "id": "-BQ0LSOuzKBH",
        "colab_type": "code",
        "outputId": "b0311b8b-ff4e-45bb-affb-d362a605e3d0",
        "colab": {
          "base_uri": "https://localhost:8080/",
          "height": 459
        }
      },
      "source": [
        "uniquevalue.show()"
      ],
      "execution_count": 0,
      "outputs": [
        {
          "output_type": "stream",
          "text": [
            "+----------+--------------------+\n",
            "|product_id|       product_title|\n",
            "+----------+--------------------+\n",
            "|B00IHS9BPM|Waterproof Blueto...|\n",
            "|B002ABX29I|Micca Slim Portab...|\n",
            "|B003NM0DLS|1x4 HDMI Distribu...|\n",
            "|B00M1Y87I0|      sentey ls 4063|\n",
            "|B000LXD7D8|Apple iPod nano 2...|\n",
            "|B00QVXNV60|BRG AH2000G-ANR A...|\n",
            "|B00L85M8VU|Settonbrothers Ul...|\n",
            "|B002R1WH2Y|Speck iPod,iPhone...|\n",
            "|B001I2SJDO|MFX2 Car Power Ch...|\n",
            "|B00LGNKLXG|Aweek® Car Antenn...|\n",
            "|B00UN6955M|Aisster(TM) Lot 1...|\n",
            "|B0056DB4GK|Rode Microphones ...|\n",
            "|B001B3XNEA|iTrip Auto Univer...|\n",
            "|B00SUXD5GU|[NEW RELEASE] JEB...|\n",
            "|B00D6UO8N6|T9680rsame Talkab...|\n",
            "|B00541H4JK|POWER ACOUSTIK PS...|\n",
            "|B000BQYM2A|Apple iPod Univer...|\n",
            "|B000KL2SGS|Stereo Install Da...|\n",
            "|B006PAZCXY|eForCity® Anti-Gl...|\n",
            "|B00AE6L022|Patuoxun Remote S...|\n",
            "+----------+--------------------+\n",
            "only showing top 20 rows\n",
            "\n"
          ],
          "name": "stdout"
        }
      ]
    },
    {
      "cell_type": "code",
      "metadata": {
        "id": "qwnNaSBVwIOz",
        "colab_type": "code",
        "outputId": "27771d2f-50e4-4bc1-86b1-bf019a721005",
        "colab": {
          "base_uri": "https://localhost:8080/",
          "height": 127
        }
      },
      "source": [
        "#To check unique value \n",
        "product_df.select(countDistinct(\"product_id\")).show()"
      ],
      "execution_count": 0,
      "outputs": [
        {
          "output_type": "stream",
          "text": [
            "+--------------------------+\n",
            "|count(DISTINCT product_id)|\n",
            "+--------------------------+\n",
            "|                     25799|\n",
            "+--------------------------+\n",
            "\n"
          ],
          "name": "stdout"
        }
      ]
    },
    {
      "cell_type": "code",
      "metadata": {
        "id": "Ab1khWb3yJgJ",
        "colab_type": "code",
        "outputId": "8c8eceea-b831-4db4-e4ed-8801dbc25251",
        "colab": {
          "base_uri": "https://localhost:8080/",
          "height": 459
        }
      },
      "source": [
        "#creating Customer_df\n",
        "customers=clean_df_final.groupby(\"customer_id\").count()\n",
        "customers.show()\n"
      ],
      "execution_count": 0,
      "outputs": [
        {
          "output_type": "stream",
          "text": [
            "+-----------+-----+\n",
            "|customer_id|count|\n",
            "+-----------+-----+\n",
            "|   30701952|    1|\n",
            "|    2446723|    1|\n",
            "|    6364622|    1|\n",
            "|   51588676|    2|\n",
            "|   50328739|    1|\n",
            "|   45491401|    1|\n",
            "|    4299027|    1|\n",
            "|   15579817|    1|\n",
            "|   11954795|    1|\n",
            "|     176073|    1|\n",
            "|   15384487|    1|\n",
            "|   10521646|    1|\n",
            "|   12750781|    1|\n",
            "|   25850881|    1|\n",
            "|   42182116|    1|\n",
            "|    8631326|    1|\n",
            "|   36753682|    1|\n",
            "|   44842505|    1|\n",
            "|   36308715|    1|\n",
            "|   34487450|    1|\n",
            "+-----------+-----+\n",
            "only showing top 20 rows\n",
            "\n"
          ],
          "name": "stdout"
        }
      ]
    },
    {
      "cell_type": "code",
      "metadata": {
        "id": "HkuyjocpT1EK",
        "colab_type": "code",
        "outputId": "64d7eaf1-45e5-40d6-ba23-7172614040c8",
        "colab": {
          "base_uri": "https://localhost:8080/",
          "height": 459
        }
      },
      "source": [
        "from pyspark.sql.functions import col\n",
        "\n",
        "customers_df = customers.select(col(\"customer_id\").alias(\"customer_id\"), col(\"count\").alias(\"customer_count\"))\n",
        "customers_df.show()"
      ],
      "execution_count": 0,
      "outputs": [
        {
          "output_type": "stream",
          "text": [
            "+-----------+--------------+\n",
            "|customer_id|customer_count|\n",
            "+-----------+--------------+\n",
            "|   30701952|             1|\n",
            "|    2446723|             1|\n",
            "|    6364622|             1|\n",
            "|   51588676|             2|\n",
            "|   50328739|             1|\n",
            "|   45491401|             1|\n",
            "|    4299027|             1|\n",
            "|   15579817|             1|\n",
            "|   11954795|             1|\n",
            "|     176073|             1|\n",
            "|   15384487|             1|\n",
            "|   10521646|             1|\n",
            "|   12750781|             1|\n",
            "|   25850881|             1|\n",
            "|   42182116|             1|\n",
            "|    8631326|             1|\n",
            "|   36753682|             1|\n",
            "|   44842505|             1|\n",
            "|   36308715|             1|\n",
            "|   34487450|             1|\n",
            "+-----------+--------------+\n",
            "only showing top 20 rows\n",
            "\n"
          ],
          "name": "stdout"
        }
      ]
    },
    {
      "cell_type": "code",
      "metadata": {
        "id": "PTfIHfX6z1aT",
        "colab_type": "code",
        "outputId": "2d6b8bdd-e37d-44a3-b873-f427ad8b2c5e",
        "colab": {
          "base_uri": "https://localhost:8080/",
          "height": 459
        }
      },
      "source": [
        "#creating Vine table\n",
        "\n",
        "vine_df=clean_df_final.select([\"review_id\",\"star_rating\",\"helpful_votes\",\"total_votes\",\"vine\"])\n",
        "vine_df.show()"
      ],
      "execution_count": 0,
      "outputs": [
        {
          "output_type": "stream",
          "text": [
            "+--------------+-----------+-------------+-----------+----+\n",
            "|     review_id|star_rating|helpful_votes|total_votes|vine|\n",
            "+--------------+-----------+-------------+-----------+----+\n",
            "|R2JXNXR69I47V2|          1|            0|          0|   N|\n",
            "|R11K27GHAI6195|          1|            0|          0|   N|\n",
            "|R2ALAWL75ID2JM|          5|            0|          0|   N|\n",
            "| R8OARX4HEFGK8|          5|            0|          0|   N|\n",
            "|R28WWNCYL015CU|          5|            0|          0|   N|\n",
            "| RDC2R9YO70ILG|          5|            0|          0|   N|\n",
            "|R1Y60OTOD5GWG0|          3|            0|          0|   N|\n",
            "|R28XVREB47GB9M|          3|            0|          0|   N|\n",
            "|R2HLEUFNMPQN56|          4|            0|          0|   N|\n",
            "|R2TBD74G4EZZN5|          5|            2|          2|   N|\n",
            "|R1MOY16ER8CCUA|          5|            0|          0|   N|\n",
            "|R1TAG1ZNRY8WZ2|          5|            2|          2|   N|\n",
            "|R2MQXKIF6W15AW|          1|            0|          0|   N|\n",
            "|R1CL3BYFZ9IP9Q|          4|            0|          0|   N|\n",
            "| ROXEOAFGCCIXC|          5|            0|          0|   N|\n",
            "| RQ0VF66AFFZOJ|          5|            0|          0|   N|\n",
            "|R2F5XRVO4P47GT|          5|            0|          0|   N|\n",
            "|R2GE051KWDAFGU|          5|            0|          0|   N|\n",
            "|R28P2TYLKF1898|          5|            0|          0|   N|\n",
            "|R1L0YED5YEMRCP|          1|            0|          0|   N|\n",
            "+--------------+-----------+-------------+-----------+----+\n",
            "only showing top 20 rows\n",
            "\n"
          ],
          "name": "stdout"
        }
      ]
    },
    {
      "cell_type": "markdown",
      "metadata": {
        "id": "uhCVWtFgVQHH",
        "colab_type": "text"
      },
      "source": [
        "# **Load**"
      ]
    },
    {
      "cell_type": "code",
      "metadata": {
        "id": "ANpamWaC8B55",
        "colab_type": "code",
        "outputId": "eefae0f8-08ea-407c-a864-95c9bfabdf34",
        "colab": {
          "base_uri": "https://localhost:8080/",
          "height": 204
        }
      },
      "source": [
        "# Configure settings for RDS\n",
        "#for Postgrate driver\n",
        "!wget https://jdbc.postgresql.org/download/postgresql-42.2.9.jar\n",
        "mode = \"append\"\n",
        "jdbc_url=\"jdbc:postgresql://datavizchallenege.cx9tn8vhsc47.us-east-2.rds.amazonaws.com:5432/postgres\"\n",
        "#hididng password\n",
        "config = {\"user\":\"postgres\",\n",
        "          \"password\": \"******\",\n",
        "          \"driver\":\"org.postgresql.Driver\"}"
      ],
      "execution_count": 0,
      "outputs": [
        {
          "output_type": "stream",
          "text": [
            "--2020-02-04 03:39:18--  https://jdbc.postgresql.org/download/postgresql-42.2.9.jar\n",
            "Resolving jdbc.postgresql.org (jdbc.postgresql.org)... 72.32.157.228, 2001:4800:3e1:1::228\n",
            "Connecting to jdbc.postgresql.org (jdbc.postgresql.org)|72.32.157.228|:443... connected.\n",
            "HTTP request sent, awaiting response... 200 OK\n",
            "Length: 914037 (893K) [application/java-archive]\n",
            "Saving to: ‘postgresql-42.2.9.jar.1’\n",
            "\n",
            "postgresql-42.2.9.j 100%[===================>] 892.61K  4.60MB/s    in 0.2s    \n",
            "\n",
            "2020-02-04 03:39:19 (4.60 MB/s) - ‘postgresql-42.2.9.jar.1’ saved [914037/914037]\n",
            "\n"
          ],
          "name": "stdout"
        }
      ]
    },
    {
      "cell_type": "code",
      "metadata": {
        "id": "S7F3LaNolch2",
        "colab_type": "code",
        "outputId": "e951ff92-ea48-4eaf-b0a9-d5dfeac5a34d",
        "colab": {
          "base_uri": "https://localhost:8080/",
          "height": 102
        }
      },
      "source": [
        "review_id_df.dtypes"
      ],
      "execution_count": 0,
      "outputs": [
        {
          "output_type": "execute_result",
          "data": {
            "text/plain": [
              "[('review_id', 'string'),\n",
              " ('customer_id', 'int'),\n",
              " ('product_id', 'string'),\n",
              " ('product_parent', 'int'),\n",
              " ('review_date', 'date')]"
            ]
          },
          "metadata": {
            "tags": []
          },
          "execution_count": 17
        }
      ]
    },
    {
      "cell_type": "code",
      "metadata": {
        "id": "s6rdgnG7l9AY",
        "colab_type": "code",
        "colab": {}
      },
      "source": [
        "review_id_1=review_id_df.dropna()"
      ],
      "execution_count": 0,
      "outputs": []
    },
    {
      "cell_type": "code",
      "metadata": {
        "id": "yUjt_HISRIfs",
        "colab_type": "code",
        "colab": {}
      },
      "source": [
        "# Configure settings for RDS\n",
        "mode = \"append\"\n",
        "jdbc_url=\"jdbc:postgresql://challengeetl.cx9tn8vhsc47.us-east-2.rds.amazonaws.com:5432/challenge\"\n",
        "config = {\"user\":\"postgres\",\n",
        "          \"password\": \"*******\",\n",
        "          \"driver\":\"org.postgresql.Driver\"}"
      ],
      "execution_count": 0,
      "outputs": []
    },
    {
      "cell_type": "code",
      "metadata": {
        "id": "hVBtL60K9ZdG",
        "colab_type": "code",
        "colab": {}
      },
      "source": [
        "# Write DataFrame to review table in RDS\n",
        "review_id_df.write.jdbc(url=jdbc_url, table='review_id_table', mode=mode, properties=config)"
      ],
      "execution_count": 0,
      "outputs": []
    },
    {
      "cell_type": "code",
      "metadata": {
        "id": "Uln7VUt-9cd9",
        "colab_type": "code",
        "colab": {}
      },
      "source": [
        "# Write DataFrame to products table in RDS\n",
        "uniquevalue.write.jdbc(url=jdbc_url, table='products', mode=mode, properties=config)"
      ],
      "execution_count": 0,
      "outputs": []
    },
    {
      "cell_type": "code",
      "metadata": {
        "id": "-GXXsjZG9dVW",
        "colab_type": "code",
        "colab": {}
      },
      "source": [
        "# Write DataFrame to customers table in RDS\n",
        "customers_df.write.jdbc(url=jdbc_url, table='customers', mode=mode, properties=config)"
      ],
      "execution_count": 0,
      "outputs": []
    },
    {
      "cell_type": "code",
      "metadata": {
        "id": "IML8Ix3T9d-b",
        "colab_type": "code",
        "colab": {}
      },
      "source": [
        "# Write DataFrame to vine_table table in RDS\n",
        "vine_df.write.jdbc(url=jdbc_url, table='vine_table', mode=mode, properties=config)"
      ],
      "execution_count": 0,
      "outputs": []
    }
  ]
}