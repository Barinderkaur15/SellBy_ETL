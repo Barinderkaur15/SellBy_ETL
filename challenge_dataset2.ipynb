{
  "nbformat": 4,
  "nbformat_minor": 0,
  "metadata": {
    "colab": {
      "name": "challenge_dataset2.ipynb",
      "provenance": [],
      "collapsed_sections": [],
      "authorship_tag": "ABX9TyOTM/NXf3Y0BMiP310KRcvG",
      "include_colab_link": true
    },
    "kernelspec": {
      "name": "python3",
      "display_name": "Python 3"
    }
  },
  "cells": [
    {
      "cell_type": "markdown",
      "metadata": {
        "id": "view-in-github",
        "colab_type": "text"
      },
      "source": [
        "<a href=\"https://colab.research.google.com/github/Barinderkaur15/SellBy_ETL/blob/master/challenge_dataset2.ipynb\" target=\"_parent\"><img src=\"https://colab.research.google.com/assets/colab-badge.svg\" alt=\"Open In Colab\"/></a>"
      ]
    },
    {
      "cell_type": "code",
      "metadata": {
        "id": "iOKMQ6u3DX4Y",
        "colab_type": "code",
        "outputId": "558c2906-4f9e-4bcb-c4a2-e4406a62a06d",
        "colab": {
          "base_uri": "https://localhost:8080/",
          "height": 204
        }
      },
      "source": [
        "# Install Java, Spark, and Findspark\n",
        "!apt-get install openjdk-8-jdk-headless -qq > /dev/null\n",
        "!wget -q http://www-us.apache.org/dist/spark/spark-2.4.4/spark-2.4.4-bin-hadoop2.7.tgz\n",
        "!tar xf spark-2.4.4-bin-hadoop2.7.tgz\n",
        "!pip install -q findspark\n",
        "# Set Environment Variables\n",
        "import os\n",
        "os.environ[\"JAVA_HOME\"] = \"/usr/lib/jvm/java-8-openjdk-amd64\"\n",
        "os.environ[\"SPARK_HOME\"] = \"/content/spark-2.4.4-bin-hadoop2.7\"\n",
        "#for Postgrate driver\n",
        "!wget https://jdbc.postgresql.org/download/postgresql-42.2.9.jar\n",
        "# Start a SparkSession\n",
        "import findspark\n",
        "findspark.init()\n",
        "# Start Spark session\n",
        "from pyspark.sql import SparkSession\n",
        "spark = SparkSession.builder.appName(\"challenege\").config(\"spark.driver.extraClassPath\",\"/content/postgresql-42.2.9.jar\").getOrCreate()"
      ],
      "execution_count": 2,
      "outputs": [
        {
          "output_type": "stream",
          "text": [
            "--2020-02-04 05:54:47--  https://jdbc.postgresql.org/download/postgresql-42.2.9.jar\n",
            "Resolving jdbc.postgresql.org (jdbc.postgresql.org)... 72.32.157.228, 2001:4800:3e1:1::228\n",
            "Connecting to jdbc.postgresql.org (jdbc.postgresql.org)|72.32.157.228|:443... connected.\n",
            "HTTP request sent, awaiting response... 200 OK\n",
            "Length: 914037 (893K) [application/java-archive]\n",
            "Saving to: ‘postgresql-42.2.9.jar’\n",
            "\n",
            "postgresql-42.2.9.j 100%[===================>] 892.61K  4.69MB/s    in 0.2s    \n",
            "\n",
            "2020-02-04 05:54:48 (4.69 MB/s) - ‘postgresql-42.2.9.jar’ saved [914037/914037]\n",
            "\n"
          ],
          "name": "stdout"
        }
      ]
    },
    {
      "cell_type": "markdown",
      "metadata": {
        "id": "K349dZIND0uL",
        "colab_type": "text"
      },
      "source": [
        "# **Extract**"
      ]
    },
    {
      "cell_type": "code",
      "metadata": {
        "id": "bU3V2-n3U_xt",
        "colab_type": "code",
        "colab": {}
      },
      "source": [
        "# Read in data from S3 Buckets\n",
        "from pyspark import SparkFiles\n",
        "url = \"https://*****-bucket.s3.amazonaws.com/amazon_reviews_us_Jewelry_v1_00.tsv.gz\"\n",
        "spark.sparkContext.addFile(url)\n",
        "df = spark.read.csv(SparkFiles.get(\"amazon_reviews_us_Jewelry_v1_00.tsv.gz\"), sep=\"\\t\", header=True)"
      ],
      "execution_count": 0,
      "outputs": []
    },
    {
      "cell_type": "code",
      "metadata": {
        "id": "S9MUIR3AtOrf",
        "colab_type": "code",
        "outputId": "40aaa2dd-51fc-4355-e7ec-c89da9968b5c",
        "colab": {
          "base_uri": "https://localhost:8080/",
          "height": 479
        }
      },
      "source": [
        "#To check our data frame\n",
        "df.show()"
      ],
      "execution_count": 0,
      "outputs": [
        {
          "output_type": "stream",
          "text": [
            "+-----------+-----------+--------------+----------+--------------+--------------------+------------------+-----------+-------------+-----------+----+-----------------+--------------------+--------------------+-----------+\n",
            "|marketplace|customer_id|     review_id|product_id|product_parent|       product_title|  product_category|star_rating|helpful_votes|total_votes|vine|verified_purchase|     review_headline|         review_body|review_date|\n",
            "+-----------+-----------+--------------+----------+--------------+--------------------+------------------+-----------+-------------+-----------+----+-----------------+--------------------+--------------------+-----------+\n",
            "|         US|   20422322| R8MEA6IGAHO0B|B00MC4CED8|     217304173|BlackVue DR600GW-PMP|Mobile_Electronics|          5|            0|          0|   N|                Y|         Very Happy!|As advertised. Ev...| 2015-08-31|\n",
            "|         US|   40835037|R31LOQ8JGLPRLK|B00OQMFG1Q|     137313254|GENSSI GSM / GPS ...|Mobile_Electronics|          5|            0|          1|   N|                Y|           five star|          it's great| 2015-08-31|\n",
            "|         US|   51469641|R2Y0MM9YE6OP3P|B00QERR5CY|      82850235|iXCC Multi pack L...|Mobile_Electronics|          5|            0|          0|   N|                Y|        great cables|These work great ...| 2015-08-31|\n",
            "|         US|    4332923| RRB9C05HDOD4O|B00QUFTPV4|     221169481|abcGoodefg® FBI C...|Mobile_Electronics|          4|            0|          0|   N|                Y|Work very well bu...|Work very well bu...| 2015-08-31|\n",
            "|         US|   44855305|R26I2RI1GFV8QG|B0067XVNTG|     563475445|Generic Car Dashb...|Mobile_Electronics|          2|            0|          0|   N|                Y|Cameras has batte...|Be careful with t...| 2015-08-31|\n",
            "|         US|    7846966| RY8DDL22YG4R5|B00KA6CCVY|     713636156|Aweek® Air Acoust...|Mobile_Electronics|          3|            0|          1|   N|                Y|It appears to be ...|It appears to be ...| 2015-08-31|\n",
            "|         US|   21299354|R2AT2426ZHFUHH|B00MJCDPM2|     754171872|Sentey LS-4460 B-...|Mobile_Electronics|          3|            0|          1|   N|                Y|Didn't love the f...|First one arrived...| 2015-08-31|\n",
            "|         US|   28902968|R3RRXU2R23NMQ9|B00ET5AWBY|     508373185|iPad Car Headrest...|Mobile_Electronics|          5|            0|          0|   N|                Y|          Five Stars|Worked great for ...| 2015-08-31|\n",
            "|         US|    2074438|R250PR8VJUZ62F|B00Z9K379C|     759387370|ANWING Waterproof...|Mobile_Electronics|          4|            0|          2|   N|                Y|          Four Stars|this is a very go...| 2015-08-31|\n",
            "|         US|   48701722| RBEMQ29WJBHYG|B00YO3UYXW|     913911909|Jensen MCR-100 Ca...|Mobile_Electronics|          5|          164|        168|   N|                Y|  I LOVE my recorder|I LOVE my recorde...| 2015-08-31|\n",
            "|         US|    2990247|R19VVIUT4BZCMT|B011W26BU2|     938399424|Bluetooth Speaker...|Mobile_Electronics|          5|            2|          2|   N|                Y|          Five Stars|Great sound great...| 2015-08-31|\n",
            "|         US|   52946117|R1DT8JJUQHUKUL|B00H8PI78C|     661515294|15Pcs DC 5V 85dB ...|Mobile_Electronics|          3|            0|          1|   N|                Y|More of a beeper ...|If what you want ...| 2015-08-31|\n",
            "|         US|   49359994| RLIL6S9OGM3YA|B00M49C6MK|      91176851|      Sentey Ls 4162|Mobile_Electronics|          5|            0|          0|   N|                Y|          Five Stars|             Love it| 2015-08-31|\n",
            "|         US|    4158732|R34EZZ68VYPHO0|B011Q291PK|     891142775|IcePACK 8 Can Ins...|Mobile_Electronics|          1|            1|          1|   N|                Y|            One Star|               Sucks| 2015-08-31|\n",
            "|         US|   18944032|R3TZNSOXS13SIG|B00W6OLUGQ|     577462547|DTK® AMI MDI MMI ...|Mobile_Electronics|          2|            1|          3|   N|                Y|           Two Stars|u need to plug in...| 2015-08-31|\n",
            "|         US|     279606|R12UBZT87UX3AP|B008MY1F8W|     680240984|INPA K+CAN K+DCAN...|Mobile_Electronics|          5|            2|          2|   N|                Y|          Five Stars|Worked with MHD F...| 2015-08-31|\n",
            "|         US|   10947966| R5KCRE927NYMU|B00KW3XNUE|     219920841|Magicfly Wireless...|Mobile_Electronics|          2|            0|          0|   N|                N|Battery Cover Poo...|Just arrived,  re...| 2015-08-31|\n",
            "|         US|   18387442| RT12RQFU0V2AX|B009NGR0AK|     254898339|Humminbird XNT 9 ...|Mobile_Electronics|          5|            1|          1|   N|                Y|        Works great.|I bought this uni...| 2015-08-31|\n",
            "|         US|   48950322|R2K0YQPV5W2SJ1|B011W26BU2|     938399424|Bluetooth Speaker...|Mobile_Electronics|          4|            2|          2|   N|                Y|A Lot of Sound In...|I am giving the s...| 2015-08-31|\n",
            "|         US|   48148197|R104MY31OKNGXH|B00PAP68WO|     366592530|Foxnovo 3.7V 380m...|Mobile_Electronics|          5|            0|          0|   N|                Y|          Five Stars|Met my applicatio...| 2015-08-31|\n",
            "+-----------+-----------+--------------+----------+--------------+--------------------+------------------+-----------+-------------+-----------+----+-----------------+--------------------+--------------------+-----------+\n",
            "only showing top 20 rows\n",
            "\n"
          ],
          "name": "stdout"
        }
      ]
    },
    {
      "cell_type": "code",
      "metadata": {
        "id": "_kpsOaHZvQjl",
        "colab_type": "code",
        "outputId": "ae55defb-1d18-40b8-e800-d2cda5388bcb",
        "colab": {
          "base_uri": "https://localhost:8080/",
          "height": 34
        }
      },
      "source": [
        "#to count number of rows\n",
        "df.count()"
      ],
      "execution_count": 4,
      "outputs": [
        {
          "output_type": "execute_result",
          "data": {
            "text/plain": [
              "1767753"
            ]
          },
          "metadata": {
            "tags": []
          },
          "execution_count": 4
        }
      ]
    },
    {
      "cell_type": "markdown",
      "metadata": {
        "id": "ChQVvSOtKMLd",
        "colab_type": "text"
      },
      "source": [
        "# **Transform**"
      ]
    },
    {
      "cell_type": "code",
      "metadata": {
        "id": "zFgU3u2Qxc9O",
        "colab_type": "code",
        "outputId": "3a8ef0f4-1779-45e6-c5ac-c961271f4048",
        "colab": {
          "base_uri": "https://localhost:8080/",
          "height": 34
        }
      },
      "source": [
        "#droping NAN vlaues \n",
        "df_clean_jwelery1=df.dropna()\n",
        "df_clean_jwelery1.count()"
      ],
      "execution_count": 5,
      "outputs": [
        {
          "output_type": "execute_result",
          "data": {
            "text/plain": [
              "1767394"
            ]
          },
          "metadata": {
            "tags": []
          },
          "execution_count": 5
        }
      ]
    },
    {
      "cell_type": "code",
      "metadata": {
        "id": "C7_pn1n-OWPk",
        "colab_type": "code",
        "outputId": "e7546509-c424-4b07-9aac-ee05342a7ed6",
        "colab": {
          "base_uri": "https://localhost:8080/",
          "height": 34
        }
      },
      "source": [
        "#Deleting dupicate Rows \n",
        "df_clean_jwelery2=df_clean_jwelery1.distinct()\n",
        "df_clean_jwelery2.count()"
      ],
      "execution_count": 6,
      "outputs": [
        {
          "output_type": "execute_result",
          "data": {
            "text/plain": [
              "1767394"
            ]
          },
          "metadata": {
            "tags": []
          },
          "execution_count": 6
        }
      ]
    },
    {
      "cell_type": "code",
      "metadata": {
        "id": "O6nkL0mjOhIV",
        "colab_type": "code",
        "outputId": "36b944e1-c4f9-48ef-fba2-5a4185a5ad46",
        "colab": {
          "base_uri": "https://localhost:8080/",
          "height": 272
        }
      },
      "source": [
        "#checking data type before transformation \n",
        "df_clean_jwelery2.dtypes\n"
      ],
      "execution_count": 7,
      "outputs": [
        {
          "output_type": "execute_result",
          "data": {
            "text/plain": [
              "[('marketplace', 'string'),\n",
              " ('customer_id', 'string'),\n",
              " ('review_id', 'string'),\n",
              " ('product_id', 'string'),\n",
              " ('product_parent', 'string'),\n",
              " ('product_title', 'string'),\n",
              " ('product_category', 'string'),\n",
              " ('star_rating', 'string'),\n",
              " ('helpful_votes', 'string'),\n",
              " ('total_votes', 'string'),\n",
              " ('vine', 'string'),\n",
              " ('verified_purchase', 'string'),\n",
              " ('review_headline', 'string'),\n",
              " ('review_body', 'string'),\n",
              " ('review_date', 'string')]"
            ]
          },
          "metadata": {
            "tags": []
          },
          "execution_count": 7
        }
      ]
    },
    {
      "cell_type": "code",
      "metadata": {
        "id": "Uf4dNfJuTxo0",
        "colab_type": "code",
        "outputId": "352cfb55-1b66-4363-9067-afbb540910fc",
        "colab": {
          "base_uri": "https://localhost:8080/",
          "height": 459
        }
      },
      "source": [
        "#Changing the cloumn format\n",
        "#importing the function \n",
        "from pyspark.sql.types import IntegerType,DateType\n",
        "from pyspark.sql.functions import col\n",
        "\n",
        "df_clean_jwelery3 = df_clean_jwelery2.withColumn(\"review_date\",df_clean_jwelery2[\"review_date\"].cast(DateType()))\n",
        "df_clean_jwelery4 = df_clean_jwelery3.withColumn(\"customer_id\",df_clean_jwelery3[\"customer_id\"].cast(IntegerType()))\n",
        "df_clean_jwelery5 = df_clean_jwelery4.withColumn(\"product_parent\",df_clean_jwelery4[\"product_parent\"].cast(IntegerType()))\n",
        "df_clean_jwelery6 = df_clean_jwelery5.withColumn(\"star_rating\",df_clean_jwelery5[\"star_rating\"].cast(IntegerType()))\n",
        "df_clean_jwelery7= df_clean_jwelery6.withColumn(\"helpful_votes\",df_clean_jwelery6[\"helpful_votes\"].cast(IntegerType()))\n",
        "clean_jwelery_df=df_clean_jwelery7.withColumn(\"total_votes\",df_clean_jwelery7[\"total_votes\"].cast(IntegerType()))\n",
        "clean_jwelery_df.show()\n",
        "\n"
      ],
      "execution_count": 8,
      "outputs": [
        {
          "output_type": "stream",
          "text": [
            "+-----------+-----------+--------------+----------+--------------+--------------------+----------------+-----------+-------------+-----------+----+-----------------+--------------------+--------------------+-----------+\n",
            "|marketplace|customer_id|     review_id|product_id|product_parent|       product_title|product_category|star_rating|helpful_votes|total_votes|vine|verified_purchase|     review_headline|         review_body|review_date|\n",
            "+-----------+-----------+--------------+----------+--------------+--------------------+----------------+-----------+-------------+-----------+----+-----------------+--------------------+--------------------+-----------+\n",
            "|         US|   25310224|R1005USL5JYZRA|B00BG5WB78|     442189212|Lady Gold Tone Me...|         Jewelry|          4|            4|          4|   N|                Y|     Inexpensive fun|I ordered this fo...| 2013-09-04|\n",
            "|         US|   19996332|R1007OQ3NNV3RD|B0051IX9RW|     893505108|Bling Jewelry Bla...|         Jewelry|          1|            1|          1|   N|                Y| Bracelet fell apart|As soon as I rece...| 2013-06-13|\n",
            "|         US|    2689743| R100M7CG8G15W|B00GL7PRQI|     994203804|Sterling Silver P...|         Jewelry|          4|            0|          0|   N|                Y|          Four Stars|     My son loves it| 2015-01-04|\n",
            "|         US|    7801778|R102N945VZXRYA|B00IXXYJR6|       9545313|.925 Sterling Sil...|         Jewelry|          5|            0|          0|   N|                Y|          Five Stars|The stone hasn't ...| 2014-09-15|\n",
            "|         US|   36088460|R1036HQCDVDYZE|B002SCEG26|     257100538|Double Lucky Love...|         Jewelry|          5|            1|          1|   N|                Y|Double Lucky Love...|I love it, people...| 2010-02-08|\n",
            "|         US|   45589994| R103AUP7TMOLY|B00M3E6BZY|     496113502|Gold Filled Laser...|         Jewelry|          4|            0|          0|   N|                Y|... lot smaller t...|Looked a lot smal...| 2015-03-22|\n",
            "|         US|   14202882|R103DIHV9RV1XC|B00A5U08AC|     870816223|8MM Men's Tungste...|         Jewelry|          5|            0|          0|   N|                Y|8MM Men's Tungste...|8MM Men's Tungste...| 2014-07-12|\n",
            "|         US|   43396325|R103G95MZXEIGD|B005NRJ8U8|     520530881|7/8\" 22MM Sawo Wo...|         Jewelry|          3|            0|          0|   N|                Y|          not to bad|great carving, bu...| 2014-10-08|\n",
            "|         US|   23698386|R103GNQ7U01KHG|B004ZMBIW8|     724759429|Oxford Ivy Braide...|         Jewelry|          1|            0|          1|   N|                N|Don't buy it all ...|Worthless won't s...| 2012-12-18|\n",
            "|         US|   31699158|R103SQMC26YT0J|B00EEJEO5A|     755341131|Sterling Silver T...|         Jewelry|          5|            0|          0|   N|                Y|          Five Stars|Beautiful ring......| 2014-09-08|\n",
            "|         US|    2536953|R103XBEYQCG6ST|B00J6TAG4G|     663679725|(2pcs) 20g Gold &...|         Jewelry|          4|            0|          0|   N|                Y|If you prefer a l...|I personally have...| 2014-11-19|\n",
            "|         US|   18479519|R104A86O5NY51A|B0047ENX8G|     208039327|Blue/Black Checke...|         Jewelry|          5|            2|          2|   N|                Y|           Loved it!|Just perfect and ...| 2014-02-01|\n",
            "|         US|   51729627|R104XC8EVVPJ9M|B00ADPITB4|     666552054|Phil Laender - Si...|         Jewelry|          5|            0|          0|   N|                Y|    Slim and durable|About 2 1/2 years...| 2013-09-05|\n",
            "|         US|   16506319|R104Y8UZVF0RS9|B00CD4AG78|      67132598|Freshwater Cultur...|         Jewelry|          5|            0|          0|   N|                Y|       lovely pearls|these earrings we...| 2013-07-27|\n",
            "|         US|    1940707|R105E7JN7WUOQN|B00CFPIYQK|      36849973|KONOV Stainless S...|         Jewelry|          5|            0|          0|   N|                Y|          Five Stars|                 GR8| 2014-12-14|\n",
            "|         US|   13345860|R1066V2P23YXRK|B00DHAW3NC|     239137896|Modern Sleek Blac...|         Jewelry|          5|            0|          0|   N|                Y|          Five Stars|                  ok| 2014-08-02|\n",
            "|         US|   17374598|R106P39HO7M38P|B00GRPZKC0|     846539984|Popular 1PCS/SET ...|         Jewelry|          1|            0|          0|   N|                Y|    horrible product|The product is ho...| 2014-04-17|\n",
            "|         US|   16200866|R1074KX0LOLJ6V|B005Z2KHA6|     395670594|Alice in Wonderla...|         Jewelry|          5|            1|          1|   N|                Y|Beautiful Product...|I was very happy ...| 2012-01-07|\n",
            "|         US|   15342856|R1074OICPZQUCA|B008XWDAUE|     671993761|BUYINHOUSE Vintag...|         Jewelry|          4|            0|          0|   N|                N|Happy with my pur...|Looks great!! I l...| 2014-07-09|\n",
            "|         US|   43353094|R1078KQWIAQCD0|B00VV1IO4G|     543083078|ALOV Sterling Sil...|         Jewelry|          4|            0|          0|   N|                Y|     Beautiful charm|I really like thi...| 2015-05-26|\n",
            "+-----------+-----------+--------------+----------+--------------+--------------------+----------------+-----------+-------------+-----------+----+-----------------+--------------------+--------------------+-----------+\n",
            "only showing top 20 rows\n",
            "\n"
          ],
          "name": "stdout"
        }
      ]
    },
    {
      "cell_type": "code",
      "metadata": {
        "id": "FZoQ4eRladK6",
        "colab_type": "code",
        "outputId": "2ee9aebd-9f80-4d84-d620-af5eb0a06dd3",
        "colab": {
          "base_uri": "https://localhost:8080/",
          "height": 272
        }
      },
      "source": [
        "clean_jwelery_df.dtypes"
      ],
      "execution_count": 9,
      "outputs": [
        {
          "output_type": "execute_result",
          "data": {
            "text/plain": [
              "[('marketplace', 'string'),\n",
              " ('customer_id', 'int'),\n",
              " ('review_id', 'string'),\n",
              " ('product_id', 'string'),\n",
              " ('product_parent', 'int'),\n",
              " ('product_title', 'string'),\n",
              " ('product_category', 'string'),\n",
              " ('star_rating', 'int'),\n",
              " ('helpful_votes', 'int'),\n",
              " ('total_votes', 'int'),\n",
              " ('vine', 'string'),\n",
              " ('verified_purchase', 'string'),\n",
              " ('review_headline', 'string'),\n",
              " ('review_body', 'string'),\n",
              " ('review_date', 'date')]"
            ]
          },
          "metadata": {
            "tags": []
          },
          "execution_count": 9
        }
      ]
    },
    {
      "cell_type": "code",
      "metadata": {
        "id": "16ah9uIwZUrZ",
        "colab_type": "code",
        "outputId": "fdf17e65-cd3c-4fe5-c0ba-1d8529923e0e",
        "colab": {
          "base_uri": "https://localhost:8080/",
          "height": 102
        }
      },
      "source": [
        "#creating a dataframe for Postgres\n",
        "#Table 1 : Review id \n",
        "review_id_df=clean_jwelery_df.select([\"review_id\",\"customer_id\",\"product_id\",\"product_parent\",\"review_date\"])\n",
        "#review_id check 1 \n",
        "review_id_df.dtypes"
      ],
      "execution_count": 10,
      "outputs": [
        {
          "output_type": "execute_result",
          "data": {
            "text/plain": [
              "[('review_id', 'string'),\n",
              " ('customer_id', 'int'),\n",
              " ('product_id', 'string'),\n",
              " ('product_parent', 'int'),\n",
              " ('review_date', 'date')]"
            ]
          },
          "metadata": {
            "tags": []
          },
          "execution_count": 10
        }
      ]
    },
    {
      "cell_type": "code",
      "metadata": {
        "id": "0x-UUNvsbES6",
        "colab_type": "code",
        "outputId": "0c076bf9-beca-40fd-b480-d42d4d9ecc5d",
        "colab": {
          "base_uri": "https://localhost:8080/",
          "height": 459
        }
      },
      "source": [
        "#checking Table 1\n",
        "review_id_df.show()"
      ],
      "execution_count": 11,
      "outputs": [
        {
          "output_type": "stream",
          "text": [
            "+--------------+-----------+----------+--------------+-----------+\n",
            "|     review_id|customer_id|product_id|product_parent|review_date|\n",
            "+--------------+-----------+----------+--------------+-----------+\n",
            "|R1005USL5JYZRA|   25310224|B00BG5WB78|     442189212| 2013-09-04|\n",
            "|R1007OQ3NNV3RD|   19996332|B0051IX9RW|     893505108| 2013-06-13|\n",
            "| R100M7CG8G15W|    2689743|B00GL7PRQI|     994203804| 2015-01-04|\n",
            "|R102N945VZXRYA|    7801778|B00IXXYJR6|       9545313| 2014-09-15|\n",
            "|R1036HQCDVDYZE|   36088460|B002SCEG26|     257100538| 2010-02-08|\n",
            "| R103AUP7TMOLY|   45589994|B00M3E6BZY|     496113502| 2015-03-22|\n",
            "|R103DIHV9RV1XC|   14202882|B00A5U08AC|     870816223| 2014-07-12|\n",
            "|R103G95MZXEIGD|   43396325|B005NRJ8U8|     520530881| 2014-10-08|\n",
            "|R103GNQ7U01KHG|   23698386|B004ZMBIW8|     724759429| 2012-12-18|\n",
            "|R103SQMC26YT0J|   31699158|B00EEJEO5A|     755341131| 2014-09-08|\n",
            "|R103XBEYQCG6ST|    2536953|B00J6TAG4G|     663679725| 2014-11-19|\n",
            "|R104A86O5NY51A|   18479519|B0047ENX8G|     208039327| 2014-02-01|\n",
            "|R104XC8EVVPJ9M|   51729627|B00ADPITB4|     666552054| 2013-09-05|\n",
            "|R104Y8UZVF0RS9|   16506319|B00CD4AG78|      67132598| 2013-07-27|\n",
            "|R105E7JN7WUOQN|    1940707|B00CFPIYQK|      36849973| 2014-12-14|\n",
            "|R1066V2P23YXRK|   13345860|B00DHAW3NC|     239137896| 2014-08-02|\n",
            "|R106P39HO7M38P|   17374598|B00GRPZKC0|     846539984| 2014-04-17|\n",
            "|R1074KX0LOLJ6V|   16200866|B005Z2KHA6|     395670594| 2012-01-07|\n",
            "|R1074OICPZQUCA|   15342856|B008XWDAUE|     671993761| 2014-07-09|\n",
            "|R1078KQWIAQCD0|   43353094|B00VV1IO4G|     543083078| 2015-05-26|\n",
            "+--------------+-----------+----------+--------------+-----------+\n",
            "only showing top 20 rows\n",
            "\n"
          ],
          "name": "stdout"
        }
      ]
    },
    {
      "cell_type": "code",
      "metadata": {
        "id": "rqaZvqefjg6S",
        "colab_type": "code",
        "colab": {}
      },
      "source": [
        "#creating product table using distinct values only \n",
        "from pyspark.sql.functions import col, countDistinct\n",
        "distinct_value=clean_jwelery_df.distinct()\n",
        "\n",
        "product_df=distinct_value.select([\"product_id\",\"product_title\"])\n",
        "#droping duplicate value \n",
        "product_jwelery_df= product_df.dropDuplicates()\n",
        "\n",
        "#product_df.select(countDistinct(\"product_id\")).show()"
      ],
      "execution_count": 0,
      "outputs": []
    },
    {
      "cell_type": "code",
      "metadata": {
        "id": "o83oxidiwvVp",
        "colab_type": "code",
        "outputId": "e6a57f8c-d346-4ad6-ad63-b487ba9e3287",
        "colab": {
          "base_uri": "https://localhost:8080/",
          "height": 34
        }
      },
      "source": [
        "#checking distinct \n",
        "product_jwelery_df.count()\n"
      ],
      "execution_count": 13,
      "outputs": [
        {
          "output_type": "execute_result",
          "data": {
            "text/plain": [
              "574016"
            ]
          },
          "metadata": {
            "tags": []
          },
          "execution_count": 13
        }
      ]
    },
    {
      "cell_type": "code",
      "metadata": {
        "id": "qwnNaSBVwIOz",
        "colab_type": "code",
        "outputId": "8a4e3de6-1dae-471c-fe2b-49f79a4d0f03",
        "colab": {
          "base_uri": "https://localhost:8080/",
          "height": 119
        }
      },
      "source": [
        "#To check unique value \n",
        "product_df.select(countDistinct(\"product_id\")).show()"
      ],
      "execution_count": 14,
      "outputs": [
        {
          "output_type": "stream",
          "text": [
            "+--------------------------+\n",
            "|count(DISTINCT product_id)|\n",
            "+--------------------------+\n",
            "|                    574016|\n",
            "+--------------------------+\n",
            "\n"
          ],
          "name": "stdout"
        }
      ]
    },
    {
      "cell_type": "code",
      "metadata": {
        "id": "Ab1khWb3yJgJ",
        "colab_type": "code",
        "outputId": "da30d89b-0bd1-4c02-fd08-f75ada8d33cd",
        "colab": {
          "base_uri": "https://localhost:8080/",
          "height": 459
        }
      },
      "source": [
        "#creating Customer_df\n",
        "from pyspark.sql.functions import col\n",
        "customers=clean_jwelery_df.groupby(\"customer_id\").count()\n",
        "customers_df = customers.select(col(\"customer_id\").alias(\"customer_id\"), col(\"count\").alias(\"customer_count\"))\n",
        "customers_df.show()\n"
      ],
      "execution_count": 15,
      "outputs": [
        {
          "output_type": "stream",
          "text": [
            "+-----------+--------------+\n",
            "|customer_id|customer_count|\n",
            "+-----------+--------------+\n",
            "|   16885399|             4|\n",
            "|   16407298|             1|\n",
            "|   21196854|             1|\n",
            "|   24142937|             1|\n",
            "|   43731249|             1|\n",
            "|   41658829|             1|\n",
            "|   12411613|             1|\n",
            "|   44105454|             1|\n",
            "|     514807|             1|\n",
            "|   32501131|             1|\n",
            "|   11567869|             2|\n",
            "|   13803822|             1|\n",
            "|   37452471|             9|\n",
            "|   17314604|             2|\n",
            "|   33955796|             2|\n",
            "|   35194823|             1|\n",
            "|   26431178|             4|\n",
            "|   31618415|             2|\n",
            "|   36932022|             2|\n",
            "|   15383445|             7|\n",
            "+-----------+--------------+\n",
            "only showing top 20 rows\n",
            "\n"
          ],
          "name": "stdout"
        }
      ]
    },
    {
      "cell_type": "code",
      "metadata": {
        "id": "PTfIHfX6z1aT",
        "colab_type": "code",
        "outputId": "7e6756b3-1b2b-48f1-c870-65de318d7695",
        "colab": {
          "base_uri": "https://localhost:8080/",
          "height": 459
        }
      },
      "source": [
        "#creating Vine table\n",
        "vine_df=clean_jwelery_df.select([\"review_id\",\"star_rating\",\"helpful_votes\",\"total_votes\",\"vine\"])\n",
        "vine_df.show()"
      ],
      "execution_count": 16,
      "outputs": [
        {
          "output_type": "stream",
          "text": [
            "+--------------+-----------+-------------+-----------+----+\n",
            "|     review_id|star_rating|helpful_votes|total_votes|vine|\n",
            "+--------------+-----------+-------------+-----------+----+\n",
            "|R1005USL5JYZRA|          4|            4|          4|   N|\n",
            "|R1007OQ3NNV3RD|          1|            1|          1|   N|\n",
            "| R100M7CG8G15W|          4|            0|          0|   N|\n",
            "|R102N945VZXRYA|          5|            0|          0|   N|\n",
            "|R1036HQCDVDYZE|          5|            1|          1|   N|\n",
            "| R103AUP7TMOLY|          4|            0|          0|   N|\n",
            "|R103DIHV9RV1XC|          5|            0|          0|   N|\n",
            "|R103G95MZXEIGD|          3|            0|          0|   N|\n",
            "|R103GNQ7U01KHG|          1|            0|          1|   N|\n",
            "|R103SQMC26YT0J|          5|            0|          0|   N|\n",
            "|R103XBEYQCG6ST|          4|            0|          0|   N|\n",
            "|R104A86O5NY51A|          5|            2|          2|   N|\n",
            "|R104XC8EVVPJ9M|          5|            0|          0|   N|\n",
            "|R104Y8UZVF0RS9|          5|            0|          0|   N|\n",
            "|R105E7JN7WUOQN|          5|            0|          0|   N|\n",
            "|R1066V2P23YXRK|          5|            0|          0|   N|\n",
            "|R106P39HO7M38P|          1|            0|          0|   N|\n",
            "|R1074KX0LOLJ6V|          5|            1|          1|   N|\n",
            "|R1074OICPZQUCA|          4|            0|          0|   N|\n",
            "|R1078KQWIAQCD0|          4|            0|          0|   N|\n",
            "+--------------+-----------+-------------+-----------+----+\n",
            "only showing top 20 rows\n",
            "\n"
          ],
          "name": "stdout"
        }
      ]
    },
    {
      "cell_type": "markdown",
      "metadata": {
        "id": "uhCVWtFgVQHH",
        "colab_type": "text"
      },
      "source": [
        "# **Load**"
      ]
    },
    {
      "cell_type": "code",
      "metadata": {
        "id": "S7F3LaNolch2",
        "colab_type": "code",
        "outputId": "0bc18ce1-f2dd-43dd-d36a-af4d08d64274",
        "colab": {
          "base_uri": "https://localhost:8080/",
          "height": 102
        }
      },
      "source": [
        "review_id_df.dtypes"
      ],
      "execution_count": 17,
      "outputs": [
        {
          "output_type": "execute_result",
          "data": {
            "text/plain": [
              "[('review_id', 'string'),\n",
              " ('customer_id', 'int'),\n",
              " ('product_id', 'string'),\n",
              " ('product_parent', 'int'),\n",
              " ('review_date', 'date')]"
            ]
          },
          "metadata": {
            "tags": []
          },
          "execution_count": 17
        }
      ]
    },
    {
      "cell_type": "code",
      "metadata": {
        "id": "yUjt_HISRIfs",
        "colab_type": "code",
        "colab": {}
      },
      "source": [
        "# Configure settings for RDS\n",
        "#Hiding the Password \n",
        "mode = \"append\"\n",
        "jdbc_url=\"jdbc:postgresql://challengeetl.cx9tn8vhsc47.us-east-2.rds.amazonaws.com:5432/challenge\"\n",
        "config = {\"user\":\"postgres\",\n",
        "          \"password\": \"*****\",\n",
        "          \"driver\":\"org.postgresql.Driver\"}"
      ],
      "execution_count": 0,
      "outputs": []
    },
    {
      "cell_type": "code",
      "metadata": {
        "id": "hVBtL60K9ZdG",
        "colab_type": "code",
        "colab": {}
      },
      "source": [
        "# Write DataFrame to review table in RDS\n",
        "review_id_df.write.jdbc(url=jdbc_url, table='review_id_jewel1_table', mode=mode, properties=config)"
      ],
      "execution_count": 0,
      "outputs": []
    },
    {
      "cell_type": "code",
      "metadata": {
        "id": "Uln7VUt-9cd9",
        "colab_type": "code",
        "colab": {}
      },
      "source": [
        "# Write DataFrame to products table in RDS\n",
        "product_jwelery_df.write.jdbc(url=jdbc_url, table='products_jewel1', mode=mode, properties=config)"
      ],
      "execution_count": 0,
      "outputs": []
    },
    {
      "cell_type": "code",
      "metadata": {
        "id": "-GXXsjZG9dVW",
        "colab_type": "code",
        "colab": {}
      },
      "source": [
        "# Write DataFrame to customers table in RDS\n",
        "customers_df.write.jdbc(url=jdbc_url, table='customers_jewel1', mode=mode, properties=config)"
      ],
      "execution_count": 0,
      "outputs": []
    },
    {
      "cell_type": "code",
      "metadata": {
        "id": "IML8Ix3T9d-b",
        "colab_type": "code",
        "colab": {}
      },
      "source": [
        "# Write DataFrame to vine_table table in RDS\n",
        "vine_df.write.jdbc(url=jdbc_url, table='vine_table_jewel1', mode=mode, properties=config)"
      ],
      "execution_count": 0,
      "outputs": []
    }
  ]
}